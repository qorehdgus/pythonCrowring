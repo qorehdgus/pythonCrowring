{
 "cells": [
  {
   "cell_type": "code",
   "execution_count": 38,
   "metadata": {},
   "outputs": [],
   "source": [
    "import requests\n",
    "from bs4 import BeautifulSoup as bs\n",
    "import pandas as pd\n",
    "import datetime\n",
    "\n",
    "def scrap(boolean,index):\n",
    "    page = requests.get(\"https://library.gabia.com/\")\n",
    "    soup = bs(page.text, \"html.parser\")\n",
    "\n",
    "    elements = soup.select('div.esg-entry-content a > span')\n",
    "    titles = []\n",
    "    links = []\n",
    "    if(boolean):\n",
    "        print(elements)\n",
    "\n",
    "    for index, element in enumerate(elements, 1):\n",
    "        #print(\"{} 번째 게시글의 제목: {}\".format(index, element.text))\n",
    "        titles.append(element.text)\n",
    "        links.append(element.attrs['style'])\n",
    "\n",
    "    df = pd.DataFrame()\n",
    "    df['titles'] = titles\n",
    "    df['links'] = links\n",
    "    suffix = datetime.datetime.now().strftime(\"%y%m%d_%H%M%S\")\n",
    "    df.to_excel('./scrapTest'+str(index)+'_'+suffix+'.xlsx', sheet_name='Sheet1')"
   ]
  },
  {
   "cell_type": "code",
   "execution_count": null,
   "metadata": {},
   "outputs": [],
   "source": [
    "scrap(True,0)"
   ]
  },
  {
   "cell_type": "code",
   "execution_count": 40,
   "metadata": {},
   "outputs": [],
   "source": [
    "for i in range(0,10): scrap(False,i)"
   ]
  }
 ],
 "metadata": {
  "kernelspec": {
   "display_name": "Python 3",
   "language": "python",
   "name": "python3"
  },
  "language_info": {
   "codemirror_mode": {
    "name": "ipython",
    "version": 3
   },
   "file_extension": ".py",
   "mimetype": "text/x-python",
   "name": "python",
   "nbconvert_exporter": "python",
   "pygments_lexer": "ipython3",
   "version": "3.9.13"
  },
  "orig_nbformat": 4,
  "vscode": {
   "interpreter": {
    "hash": "42b77d2c9d2e7db0e9ae9c1f9e96e74cdc7177ef0f028cf18fbc25a8d10b19c5"
   }
  }
 },
 "nbformat": 4,
 "nbformat_minor": 2
}
